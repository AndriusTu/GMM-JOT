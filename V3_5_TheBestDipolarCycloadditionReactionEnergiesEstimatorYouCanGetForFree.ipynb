{
  "cells": [
    {
      "cell_type": "code",
      "execution_count": null,
      "metadata": {
        "colab": {
          "base_uri": "https://localhost:8080/"
        },
        "id": "R2QLEtu33YX7",
        "outputId": "1dc464da-06e1-4725-e7ea-5235c54858ac"
      },
      "outputs": [
        {
          "output_type": "stream",
          "name": "stdout",
          "text": [
            "Looking in indexes: https://pypi.org/simple, https://us-python.pkg.dev/colab-wheels/public/simple/\n",
            "Requirement already satisfied: pandas in /usr/local/lib/python3.10/dist-packages (1.5.3)\n",
            "Requirement already satisfied: python-dateutil>=2.8.1 in /usr/local/lib/python3.10/dist-packages (from pandas) (2.8.2)\n",
            "Requirement already satisfied: pytz>=2020.1 in /usr/local/lib/python3.10/dist-packages (from pandas) (2022.7.1)\n",
            "Requirement already satisfied: numpy>=1.21.0 in /usr/local/lib/python3.10/dist-packages (from pandas) (1.22.4)\n",
            "Requirement already satisfied: six>=1.5 in /usr/local/lib/python3.10/dist-packages (from python-dateutil>=2.8.1->pandas) (1.16.0)\n",
            "Looking in indexes: https://pypi.org/simple, https://us-python.pkg.dev/colab-wheels/public/simple/\n",
            "Requirement already satisfied: numpy in /usr/local/lib/python3.10/dist-packages (1.22.4)\n",
            "Looking in indexes: https://pypi.org/simple, https://us-python.pkg.dev/colab-wheels/public/simple/\n",
            "Requirement already satisfied: scikit-learn in /usr/local/lib/python3.10/dist-packages (1.2.2)\n",
            "Requirement already satisfied: numpy>=1.17.3 in /usr/local/lib/python3.10/dist-packages (from scikit-learn) (1.22.4)\n",
            "Requirement already satisfied: scipy>=1.3.2 in /usr/local/lib/python3.10/dist-packages (from scikit-learn) (1.10.1)\n",
            "Requirement already satisfied: joblib>=1.1.1 in /usr/local/lib/python3.10/dist-packages (from scikit-learn) (1.2.0)\n",
            "Requirement already satisfied: threadpoolctl>=2.0.0 in /usr/local/lib/python3.10/dist-packages (from scikit-learn) (3.1.0)\n",
            "Looking in indexes: https://pypi.org/simple, https://us-python.pkg.dev/colab-wheels/public/simple/\n",
            "Requirement already satisfied: torch in /usr/local/lib/python3.10/dist-packages (2.0.1+cu118)\n",
            "Requirement already satisfied: filelock in /usr/local/lib/python3.10/dist-packages (from torch) (3.12.0)\n",
            "Requirement already satisfied: typing-extensions in /usr/local/lib/python3.10/dist-packages (from torch) (4.5.0)\n",
            "Requirement already satisfied: sympy in /usr/local/lib/python3.10/dist-packages (from torch) (1.11.1)\n",
            "Requirement already satisfied: networkx in /usr/local/lib/python3.10/dist-packages (from torch) (3.1)\n",
            "Requirement already satisfied: jinja2 in /usr/local/lib/python3.10/dist-packages (from torch) (3.1.2)\n",
            "Requirement already satisfied: triton==2.0.0 in /usr/local/lib/python3.10/dist-packages (from torch) (2.0.0)\n",
            "Requirement already satisfied: cmake in /usr/local/lib/python3.10/dist-packages (from triton==2.0.0->torch) (3.25.2)\n",
            "Requirement already satisfied: lit in /usr/local/lib/python3.10/dist-packages (from triton==2.0.0->torch) (16.0.5)\n",
            "Requirement already satisfied: MarkupSafe>=2.0 in /usr/local/lib/python3.10/dist-packages (from jinja2->torch) (2.1.2)\n",
            "Requirement already satisfied: mpmath>=0.19 in /usr/local/lib/python3.10/dist-packages (from sympy->torch) (1.3.0)\n",
            "Looking in indexes: https://pypi.org/simple, https://us-python.pkg.dev/colab-wheels/public/simple/\n",
            "Collecting rdkit\n",
            "  Downloading rdkit-2023.3.1-cp310-cp310-manylinux_2_17_x86_64.manylinux2014_x86_64.whl (29.7 MB)\n",
            "\u001b[2K     \u001b[90m━━━━━━━━━━━━━━━━━━━━━━━━━━━━━━━━━━━━━━━━\u001b[0m \u001b[32m29.7/29.7 MB\u001b[0m \u001b[31m58.4 MB/s\u001b[0m eta \u001b[36m0:00:00\u001b[0m\n",
            "\u001b[?25hRequirement already satisfied: numpy in /usr/local/lib/python3.10/dist-packages (from rdkit) (1.22.4)\n",
            "Requirement already satisfied: Pillow in /usr/local/lib/python3.10/dist-packages (from rdkit) (8.4.0)\n",
            "Installing collected packages: rdkit\n",
            "Successfully installed rdkit-2023.3.1\n"
          ]
        }
      ],
      "source": [
        "import sys\n",
        "!{sys.executable} -m pip install pandas\n",
        "!{sys.executable} -m pip install numpy\n",
        "!{sys.executable} -m pip install scikit-learn\n",
        "!{sys.executable} -m pip install torch\n",
        "!{sys.executable} -m pip install rdkit\n"
      ]
    },
    {
      "cell_type": "code",
      "execution_count": null,
      "metadata": {
        "id": "x8a_Hg7L3YYA"
      },
      "outputs": [],
      "source": [
        "import pandas as pd\n",
        "import numpy as np\n",
        "import torch\n",
        "import torch.nn as nn\n",
        "import torch.optim as optim\n",
        "from torch.utils.data import Dataset, DataLoader\n",
        "from sklearn.model_selection import train_test_split\n",
        "import torch\n",
        "import numpy as np\n",
        "from rdkit import Chem\n",
        "from rdkit.Chem import AllChem\n",
        "import pandas as pd\n",
        "from sklearn.ensemble import RandomForestRegressor, VotingRegressor\n",
        "from sklearn.feature_selection import SelectFromModel"
      ]
    },
    {
      "cell_type": "code",
      "execution_count": null,
      "metadata": {
        "id": "FSSRLOFl3gz_"
      },
      "outputs": [],
      "source": [
        "device = torch.device(\"cpu\")"
      ]
    },
    {
      "cell_type": "code",
      "execution_count": null,
      "metadata": {
        "id": "-sF2YeIG3YYB"
      },
      "outputs": [],
      "source": [
        "# Define a Reaction dataset class\n",
        "class ReactionDataset(Dataset):\n",
        "    def __init__(self, X, y_G_act, y_G_r):\n",
        "        self.X = X\n",
        "        self.y_G_act = y_G_act\n",
        "        self.y_G_r = y_G_r\n",
        "\n",
        "    def __len__(self):\n",
        "        return len(self.X)\n",
        "\n",
        "    def __getitem__(self, idx):\n",
        "        return self.X[idx], self.y_G_act[idx], self.y_G_r[idx]"
      ]
    },
    {
      "cell_type": "code",
      "execution_count": null,
      "metadata": {
        "id": "BDMUIgY93YYC"
      },
      "outputs": [],
      "source": [
        "# Read the dataset\n",
        "df = pd.read_csv('full_dataset.csv') \n",
        "\n",
        "# Prepare the feature matrix X and target variables y\n",
        "X_smiles = df['rxn_smiles']\n",
        "y_G_act = df['G_act']\n",
        "y_G_r = df['G_r']"
      ]
    },
    {
      "cell_type": "code",
      "execution_count": null,
      "metadata": {
        "colab": {
          "base_uri": "https://localhost:8080/"
        },
        "id": "yM-TMpZ53YYE",
        "outputId": "eee45d8d-0226-4f81-bfcf-2a41d885b2be"
      },
      "outputs": [
        {
          "output_type": "stream",
          "name": "stdout",
          "text": [
            "tensor([[0., 0., 0.,  ..., 0., 0., 0.],\n",
            "        [0., 0., 0.,  ..., 0., 0., 0.],\n",
            "        [0., 0., 0.,  ..., 0., 0., 0.],\n",
            "        ...,\n",
            "        [0., 0., 0.,  ..., 0., 0., 0.],\n",
            "        [0., 0., 0.,  ..., 0., 0., 0.],\n",
            "        [0., 0., 0.,  ..., 0., 0., 0.]])\n",
            "torch.Size([5269, 3072])\n"
          ]
        }
      ],
      "source": [
        "# Define the encoding function\n",
        "def encode_smiles(smiles):\n",
        "    mol = Chem.MolFromSmiles(smiles)\n",
        "    fp = AllChem.GetMorganFingerprintAsBitVect(mol, 2, nBits=1024)\n",
        "    bitstring = fp.ToBitString()\n",
        "    features = np.array([int(bit) for bit in bitstring], dtype=np.float32)\n",
        "    features_tensor = torch.tensor(features)\n",
        "    return features_tensor\n",
        "\n",
        "# Encode SMILES strings to fingerprints\n",
        "X_fingerprints = []\n",
        "\n",
        "for idx, smiles in enumerate(X_smiles):\n",
        "    reactants, products = smiles.split('>>')\n",
        "    reactant_fingerprints = [encode_smiles(reactant) for reactant in reactants.split('.')]\n",
        "    product_fingerprints = [encode_smiles(product) for product in products.split('.')]\n",
        "    X_fingerprints.append(reactant_fingerprints + product_fingerprints)\n",
        "\n",
        "# Convert the list of fingerprints and target values to tensors\n",
        "X_tensor = torch.stack([torch.cat(fingerprints) for fingerprints in X_fingerprints]).to(device)\n",
        "\n",
        "# Print the fingerprint tensor\n",
        "print(X_tensor)\n",
        "print(X_tensor.shape)"
      ]
    },
    {
      "cell_type": "code",
      "execution_count": null,
      "metadata": {
        "id": "HjrjTdBg3YYF"
      },
      "outputs": [],
      "source": [
        "# Convert the data into PyTorch tensors\n",
        "y_G_act_tensor = torch.tensor(y_G_act.values, dtype=torch.float32).to(device)\n",
        "y_G_r_tensor = torch.tensor(y_G_r.values, dtype=torch.float32).to(device)"
      ]
    },
    {
      "cell_type": "code",
      "execution_count": null,
      "metadata": {
        "id": "gyy7_PpA3YYG"
      },
      "outputs": [],
      "source": [
        "# Split the dataset into training and testing sets\n",
        "X_train, X_test, y_G_act_train, y_G_act_test, y_G_r_train, y_G_r_test = train_test_split(X_tensor, y_G_act_tensor, y_G_r_tensor, test_size=0.2, random_state=42)\n"
      ]
    },
    {
      "cell_type": "code",
      "execution_count": null,
      "metadata": {
        "id": "iIVe753c3YYH"
      },
      "outputs": [],
      "source": [
        "class RandomForestModel(nn.Module):\n",
        "    def __init__(self, input_size):\n",
        "        super(RandomForestModel, self).__init__()\n",
        "        self.random_forest_act = RandomForestRegressor(n_estimators=100)  # Random Forest for G_act\n",
        "        self.random_forest_r = RandomForestRegressor(n_estimators=100)  # Random Forest for G_r\n",
        "\n",
        "    def forward(self, x):\n",
        "        x_act = x  # Input for G_act\n",
        "        x_r = x  # Input for G_r\n",
        "        output_act = self.random_forest_act.predict(x_act)  # Output for G_act\n",
        "        output_r = self.random_forest_r.predict(x_r)  # Output for G_r\n",
        "        return output_act, output_r"
      ]
    },
    {
      "cell_type": "code",
      "execution_count": null,
      "metadata": {
        "id": "buKX3MD_3YYI"
      },
      "outputs": [],
      "source": [
        "\n",
        "# Instantiate the Random Forest regressor\n",
        "rf_model_act1 = RandomForestRegressor(n_estimators=100, random_state=42)\n",
        "rf_model_act2 = RandomForestRegressor(n_estimators=200, random_state=42)\n",
        "rf_model_act3 = RandomForestRegressor(n_estimators=300, random_state=42)\n",
        "\n",
        "\n",
        "rf_model_r1 = RandomForestRegressor(n_estimators=100, random_state=42)\n",
        "rf_model_r2 = RandomForestRegressor(n_estimators=200, random_state=42)\n",
        "rf_model_r3 = RandomForestRegressor(n_estimators=300, random_state=42)\n",
        "\n",
        "ensemble_model_G_act = VotingRegressor([('rf_model_act1', rf_model_act1), ('rf_model_act2', rf_model_act2), ('rf_model_act3', rf_model_act3)])\n",
        "ensemble_model_G_r = VotingRegressor([('rf_model_r1', rf_model_r1), ('rf_model_r2', rf_model_r2), ('rf_model_r3', rf_model_r3)])\n",
        "\n"
      ]
    },
    {
      "cell_type": "code",
      "execution_count": null,
      "metadata": {
        "id": "vZV6PXeL3YYJ",
        "colab": {
          "base_uri": "https://localhost:8080/",
          "height": 110
        },
        "outputId": "3c7cd0e8-fd30-4680-a0e5-224f1aed5578"
      },
      "outputs": [
        {
          "output_type": "execute_result",
          "data": {
            "text/plain": [
              "VotingRegressor(estimators=[('rf_model_r1',\n",
              "                             RandomForestRegressor(random_state=42)),\n",
              "                            ('rf_model_r2',\n",
              "                             RandomForestRegressor(n_estimators=200,\n",
              "                                                   random_state=42)),\n",
              "                            ('rf_model_r3',\n",
              "                             RandomForestRegressor(n_estimators=300,\n",
              "                                                   random_state=42))])"
            ],
            "text/html": [
              "<style>#sk-container-id-1 {color: black;background-color: white;}#sk-container-id-1 pre{padding: 0;}#sk-container-id-1 div.sk-toggleable {background-color: white;}#sk-container-id-1 label.sk-toggleable__label {cursor: pointer;display: block;width: 100%;margin-bottom: 0;padding: 0.3em;box-sizing: border-box;text-align: center;}#sk-container-id-1 label.sk-toggleable__label-arrow:before {content: \"▸\";float: left;margin-right: 0.25em;color: #696969;}#sk-container-id-1 label.sk-toggleable__label-arrow:hover:before {color: black;}#sk-container-id-1 div.sk-estimator:hover label.sk-toggleable__label-arrow:before {color: black;}#sk-container-id-1 div.sk-toggleable__content {max-height: 0;max-width: 0;overflow: hidden;text-align: left;background-color: #f0f8ff;}#sk-container-id-1 div.sk-toggleable__content pre {margin: 0.2em;color: black;border-radius: 0.25em;background-color: #f0f8ff;}#sk-container-id-1 input.sk-toggleable__control:checked~div.sk-toggleable__content {max-height: 200px;max-width: 100%;overflow: auto;}#sk-container-id-1 input.sk-toggleable__control:checked~label.sk-toggleable__label-arrow:before {content: \"▾\";}#sk-container-id-1 div.sk-estimator input.sk-toggleable__control:checked~label.sk-toggleable__label {background-color: #d4ebff;}#sk-container-id-1 div.sk-label input.sk-toggleable__control:checked~label.sk-toggleable__label {background-color: #d4ebff;}#sk-container-id-1 input.sk-hidden--visually {border: 0;clip: rect(1px 1px 1px 1px);clip: rect(1px, 1px, 1px, 1px);height: 1px;margin: -1px;overflow: hidden;padding: 0;position: absolute;width: 1px;}#sk-container-id-1 div.sk-estimator {font-family: monospace;background-color: #f0f8ff;border: 1px dotted black;border-radius: 0.25em;box-sizing: border-box;margin-bottom: 0.5em;}#sk-container-id-1 div.sk-estimator:hover {background-color: #d4ebff;}#sk-container-id-1 div.sk-parallel-item::after {content: \"\";width: 100%;border-bottom: 1px solid gray;flex-grow: 1;}#sk-container-id-1 div.sk-label:hover label.sk-toggleable__label {background-color: #d4ebff;}#sk-container-id-1 div.sk-serial::before {content: \"\";position: absolute;border-left: 1px solid gray;box-sizing: border-box;top: 0;bottom: 0;left: 50%;z-index: 0;}#sk-container-id-1 div.sk-serial {display: flex;flex-direction: column;align-items: center;background-color: white;padding-right: 0.2em;padding-left: 0.2em;position: relative;}#sk-container-id-1 div.sk-item {position: relative;z-index: 1;}#sk-container-id-1 div.sk-parallel {display: flex;align-items: stretch;justify-content: center;background-color: white;position: relative;}#sk-container-id-1 div.sk-item::before, #sk-container-id-1 div.sk-parallel-item::before {content: \"\";position: absolute;border-left: 1px solid gray;box-sizing: border-box;top: 0;bottom: 0;left: 50%;z-index: -1;}#sk-container-id-1 div.sk-parallel-item {display: flex;flex-direction: column;z-index: 1;position: relative;background-color: white;}#sk-container-id-1 div.sk-parallel-item:first-child::after {align-self: flex-end;width: 50%;}#sk-container-id-1 div.sk-parallel-item:last-child::after {align-self: flex-start;width: 50%;}#sk-container-id-1 div.sk-parallel-item:only-child::after {width: 0;}#sk-container-id-1 div.sk-dashed-wrapped {border: 1px dashed gray;margin: 0 0.4em 0.5em 0.4em;box-sizing: border-box;padding-bottom: 0.4em;background-color: white;}#sk-container-id-1 div.sk-label label {font-family: monospace;font-weight: bold;display: inline-block;line-height: 1.2em;}#sk-container-id-1 div.sk-label-container {text-align: center;}#sk-container-id-1 div.sk-container {/* jupyter's `normalize.less` sets `[hidden] { display: none; }` but bootstrap.min.css set `[hidden] { display: none !important; }` so we also need the `!important` here to be able to override the default hidden behavior on the sphinx rendered scikit-learn.org. See: https://github.com/scikit-learn/scikit-learn/issues/21755 */display: inline-block !important;position: relative;}#sk-container-id-1 div.sk-text-repr-fallback {display: none;}</style><div id=\"sk-container-id-1\" class=\"sk-top-container\"><div class=\"sk-text-repr-fallback\"><pre>VotingRegressor(estimators=[(&#x27;rf_model_r1&#x27;,\n",
              "                             RandomForestRegressor(random_state=42)),\n",
              "                            (&#x27;rf_model_r2&#x27;,\n",
              "                             RandomForestRegressor(n_estimators=200,\n",
              "                                                   random_state=42)),\n",
              "                            (&#x27;rf_model_r3&#x27;,\n",
              "                             RandomForestRegressor(n_estimators=300,\n",
              "                                                   random_state=42))])</pre><b>In a Jupyter environment, please rerun this cell to show the HTML representation or trust the notebook. <br />On GitHub, the HTML representation is unable to render, please try loading this page with nbviewer.org.</b></div><div class=\"sk-container\" hidden><div class=\"sk-item sk-dashed-wrapped\"><div class=\"sk-label-container\"><div class=\"sk-label sk-toggleable\"><input class=\"sk-toggleable__control sk-hidden--visually\" id=\"sk-estimator-id-1\" type=\"checkbox\" ><label for=\"sk-estimator-id-1\" class=\"sk-toggleable__label sk-toggleable__label-arrow\">VotingRegressor</label><div class=\"sk-toggleable__content\"><pre>VotingRegressor(estimators=[(&#x27;rf_model_r1&#x27;,\n",
              "                             RandomForestRegressor(random_state=42)),\n",
              "                            (&#x27;rf_model_r2&#x27;,\n",
              "                             RandomForestRegressor(n_estimators=200,\n",
              "                                                   random_state=42)),\n",
              "                            (&#x27;rf_model_r3&#x27;,\n",
              "                             RandomForestRegressor(n_estimators=300,\n",
              "                                                   random_state=42))])</pre></div></div></div><div class=\"sk-parallel\"><div class=\"sk-parallel-item\"><div class=\"sk-item\"><div class=\"sk-label-container\"><div class=\"sk-label sk-toggleable\"><label>rf_model_r1</label></div></div><div class=\"sk-serial\"><div class=\"sk-item\"><div class=\"sk-estimator sk-toggleable\"><input class=\"sk-toggleable__control sk-hidden--visually\" id=\"sk-estimator-id-2\" type=\"checkbox\" ><label for=\"sk-estimator-id-2\" class=\"sk-toggleable__label sk-toggleable__label-arrow\">RandomForestRegressor</label><div class=\"sk-toggleable__content\"><pre>RandomForestRegressor(random_state=42)</pre></div></div></div></div></div></div><div class=\"sk-parallel-item\"><div class=\"sk-item\"><div class=\"sk-label-container\"><div class=\"sk-label sk-toggleable\"><label>rf_model_r2</label></div></div><div class=\"sk-serial\"><div class=\"sk-item\"><div class=\"sk-estimator sk-toggleable\"><input class=\"sk-toggleable__control sk-hidden--visually\" id=\"sk-estimator-id-3\" type=\"checkbox\" ><label for=\"sk-estimator-id-3\" class=\"sk-toggleable__label sk-toggleable__label-arrow\">RandomForestRegressor</label><div class=\"sk-toggleable__content\"><pre>RandomForestRegressor(n_estimators=200, random_state=42)</pre></div></div></div></div></div></div><div class=\"sk-parallel-item\"><div class=\"sk-item\"><div class=\"sk-label-container\"><div class=\"sk-label sk-toggleable\"><label>rf_model_r3</label></div></div><div class=\"sk-serial\"><div class=\"sk-item\"><div class=\"sk-estimator sk-toggleable\"><input class=\"sk-toggleable__control sk-hidden--visually\" id=\"sk-estimator-id-4\" type=\"checkbox\" ><label for=\"sk-estimator-id-4\" class=\"sk-toggleable__label sk-toggleable__label-arrow\">RandomForestRegressor</label><div class=\"sk-toggleable__content\"><pre>RandomForestRegressor(n_estimators=300, random_state=42)</pre></div></div></div></div></div></div></div></div></div></div>"
            ]
          },
          "metadata": {},
          "execution_count": 11
        }
      ],
      "source": [
        "# Fit the models\n",
        "ensemble_model_G_act.fit(X_train, y_G_act_train)\n",
        "ensemble_model_G_r.fit(X_train, y_G_r_train)"
      ]
    },
    {
      "cell_type": "markdown",
      "metadata": {
        "id": "O5m2FeYt3YYN"
      },
      "source": [
        "# For showing how it works, we will use the following example:"
      ]
    },
    {
      "cell_type": "code",
      "execution_count": null,
      "metadata": {
        "id": "0_0Jhuh33YYL",
        "colab": {
          "base_uri": "https://localhost:8080/"
        },
        "outputId": "1cd73af2-94bc-4346-94ea-3e902f923e7b"
      },
      "outputs": [
        {
          "output_type": "stream",
          "name": "stdout",
          "text": [
            "G_act 0     15.875896\n",
            "1     15.155477\n",
            "2     18.013824\n",
            "3     23.687079\n",
            "4     23.438094\n",
            "5     20.969801\n",
            "6     11.722625\n",
            "7      7.268044\n",
            "8      6.289673\n",
            "9     16.044475\n",
            "10    13.604005\n",
            "Name: G_act, dtype: float64 G_r 0    -51.881526\n",
            "1    -51.398681\n",
            "2    -66.822349\n",
            "3    -62.481289\n",
            "4    -84.836459\n",
            "5    -57.785046\n",
            "6    -63.721331\n",
            "7    -86.996102\n",
            "8    -86.799671\n",
            "9    -50.409197\n",
            "10   -51.008126\n",
            "Name: G_r, dtype: float64  \n",
            "Predictions for G_act:\n",
            "15.24899767793991\n",
            "15.198802469394826\n",
            "18.07200829346975\n",
            "22.02099354143496\n",
            "22.0973322418001\n",
            "17.597455409102967\n",
            "13.671995250648921\n",
            "8.612696935247492\n",
            "7.606726751106758\n",
            "15.846369749704998\n",
            "14.730198397901324\n",
            "Predictions for G_r:\n",
            "-50.09631182140774\n",
            "-49.97316423027604\n",
            "-63.17122292518616\n",
            "-62.095371262232455\n",
            "-72.03792874477527\n",
            "-59.25069643047121\n",
            "-62.123618178235155\n",
            "-74.71369118266635\n",
            "-71.37308301862082\n",
            "-48.084038217332626\n",
            "-48.307733727031284\n"
          ]
        }
      ],
      "source": [
        "\n",
        "# Read the dataset\n",
        "df = pd.read_csv('debuging_dataset.csv')\n",
        "\n",
        "# Extract the SMILES strings\n",
        "smiles = df['rxn_smiles']\n",
        "\n",
        "print(f\"G_act {df['G_act']} G_r {df['G_r']}  \")\n",
        "\n",
        "# Encode SMILES strings to fingerprints\n",
        "X_fingerprints = []\n",
        "\n",
        "for idx, smiles in enumerate(smiles):\n",
        "    reactants, products = smiles.split('>>')\n",
        "    reactant_fingerprints = [encode_smiles(reactant) for reactant in reactants.split('.')]\n",
        "    product_fingerprints = [encode_smiles(product) for product in products.split('.')]\n",
        "    X_fingerprints.append(reactant_fingerprints + product_fingerprints)\n",
        "\n",
        "# Convert the list of fingerprints and target values to tensors\n",
        "X_test = torch.stack([torch.cat(fingerprints) for fingerprints in X_fingerprints])\n",
        "\n",
        "# Evaluate the models on the testing data\n",
        "predictions_G_act = ensemble_model_G_act.predict(X_test)\n",
        "predictions_G_r = ensemble_model_G_r.predict(X_test)\n",
        "\n",
        "# Print the predictions\n",
        "print(\"Predictions for G_act:\")\n",
        "for pred in predictions_G_act:\n",
        "    print(pred)\n",
        "\n",
        "print(\"Predictions for G_r:\")\n",
        "for pred in predictions_G_r:\n",
        "    print(pred)"
      ]
    }
  ],
  "metadata": {
    "accelerator": "GPU",
    "colab": {
      "gpuType": "T4",
      "provenance": []
    },
    "gpuClass": "standard",
    "kernelspec": {
      "display_name": "Python 3.9.6 64-bit",
      "language": "python",
      "name": "python3"
    },
    "language_info": {
      "codemirror_mode": {
        "name": "ipython",
        "version": 3
      },
      "file_extension": ".py",
      "mimetype": "text/x-python",
      "name": "python",
      "nbconvert_exporter": "python",
      "pygments_lexer": "ipython3",
      "version": "3.9.6"
    },
    "orig_nbformat": 4,
    "vscode": {
      "interpreter": {
        "hash": "81794d4967e6c3204c66dcd87b604927b115b27c00565d3d43f05ba2f3a2cb0d"
      }
    }
  },
  "nbformat": 4,
  "nbformat_minor": 0
}